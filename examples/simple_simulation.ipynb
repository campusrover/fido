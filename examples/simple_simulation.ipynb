{
 "cells": [
  {
   "cell_type": "code",
   "execution_count": null,
   "id": "b4a5a5c6-dffe-43fa-ae8f-390ee5340842",
   "metadata": {},
   "outputs": [],
   "source": [
    "from fido.robot import Turtlebot3\n",
    "from fido.simulation import Gazebo, Simulation\n",
    "from fido.world import RaceTrack"
   ]
  },
  {
   "cell_type": "code",
   "execution_count": null,
   "id": "2b64eee5-311c-4d55-b460-5a0505da7f77",
   "metadata": {},
   "outputs": [],
   "source": [
    "robot = Turtlebot3(\"bot_01\")\n",
    "world = RaceTrack()\n",
    "world.add(robot)"
   ]
  },
  {
   "cell_type": "code",
   "execution_count": null,
   "id": "b78353cb-fd2c-43d7-bd8e-db3d48e81ed2",
   "metadata": {},
   "outputs": [],
   "source": [
    "sim = Simulation(simulator=Gazebo(True), world=world)"
   ]
  },
  {
   "cell_type": "code",
   "execution_count": null,
   "id": "110e88fa-698c-4c0b-ac75-4d2f6ea2d6f6",
   "metadata": {},
   "outputs": [],
   "source": [
    "sim.start()"
   ]
  },
  {
   "cell_type": "code",
   "execution_count": null,
   "id": "94d71d71-c292-4a00-9a27-fd112d267b3d",
   "metadata": {},
   "outputs": [],
   "source": [
    "sim.view()"
   ]
  },
  {
   "cell_type": "code",
   "execution_count": null,
   "id": "f59e8a62-59ff-4cbf-bd59-122ca886fbbd",
   "metadata": {},
   "outputs": [],
   "source": [
    "robot.x"
   ]
  },
  {
   "cell_type": "code",
   "execution_count": null,
   "id": "28daad3a-c0d6-4df6-8e7b-5e328ef0dc5c",
   "metadata": {},
   "outputs": [],
   "source": [
    "robot.move(distance=3, speed=0.4)"
   ]
  },
  {
   "cell_type": "code",
   "execution_count": null,
   "id": "d1c7f037-8df1-433f-8bcc-2f407f8a46b0",
   "metadata": {},
   "outputs": [],
   "source": [
    "robot.x"
   ]
  },
  {
   "cell_type": "code",
   "execution_count": null,
   "id": "3acd3986-0dcc-472a-92b0-b06dcecbbade",
   "metadata": {},
   "outputs": [],
   "source": [
    "sim.destroy()"
   ]
  }
 ],
 "metadata": {
  "kernelspec": {
   "display_name": "Python 3",
   "language": "python",
   "name": "python3"
  },
  "language_info": {
   "codemirror_mode": {
    "name": "ipython",
    "version": 3
   },
   "file_extension": ".py",
   "mimetype": "text/x-python",
   "name": "python",
   "nbconvert_exporter": "python",
   "pygments_lexer": "ipython3",
   "version": "3.8.7"
  }
 },
 "nbformat": 4,
 "nbformat_minor": 5
}
